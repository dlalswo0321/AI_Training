{
 "cells": [
  {
   "cell_type": "code",
   "execution_count": 41,
   "metadata": {},
   "outputs": [
    {
     "name": "stdout",
     "output_type": "stream",
     "text": [
      "True\n",
      "False\n"
     ]
    }
   ],
   "source": [
    "import torch\n",
    "print(torch.cuda.is_available())\n",
    "print(torch.backends.mps.is_available())"
   ]
  },
  {
   "cell_type": "markdown",
   "metadata": {},
   "source": [
    "# GPU 사용하기"
   ]
  },
  {
   "cell_type": "markdown",
   "metadata": {},
   "source": [
    "윈도우 -> cuda, MAC -> mps"
   ]
  },
  {
   "cell_type": "code",
   "execution_count": 42,
   "metadata": {},
   "outputs": [
    {
     "name": "stdout",
     "output_type": "stream",
     "text": [
      "2.1.2+cu118\n"
     ]
    },
    {
     "data": {
      "text/plain": [
       "'cuda'"
      ]
     },
     "execution_count": 42,
     "metadata": {},
     "output_type": "execute_result"
    }
   ],
   "source": [
    "print(torch.__version__)\n",
    "device = torch.device('cuda') if torch.cuda.is_available() else torch.device('mps') if torch.backends.mps.is_available() else torch.device('cpu')\n",
    "device.type"
   ]
  },
  {
   "cell_type": "markdown",
   "metadata": {},
   "source": [
    "## GPU 사용하는지 확인하기\n",
    "코드 돌릴 때 GPU 사용하는지 확인해보기"
   ]
  },
  {
   "cell_type": "code",
   "execution_count": 43,
   "metadata": {},
   "outputs": [
    {
     "name": "stdout",
     "output_type": "stream",
     "text": [
      "Epoch 0/3000,\t loss : 22645.181640625\n",
      "Epoch 100/3000,\t loss : 3185.1181640625\n",
      "Epoch 200/3000,\t loss : 3059.127685546875\n",
      "Epoch 300/3000,\t loss : 2940.667236328125\n",
      "Epoch 400/3000,\t loss : 2827.974365234375\n",
      "Epoch 500/3000,\t loss : 2720.717041015625\n",
      "Epoch 600/3000,\t loss : 2618.6328125\n",
      "Epoch 700/3000,\t loss : 2521.471923828125\n",
      "Epoch 800/3000,\t loss : 2428.99560546875\n",
      "Epoch 900/3000,\t loss : 2340.978759765625\n",
      "Epoch 1000/3000,\t loss : 2257.206787109375\n",
      "Epoch 1100/3000,\t loss : 2177.474365234375\n",
      "Epoch 1200/3000,\t loss : 2101.58642578125\n",
      "Epoch 1300/3000,\t loss : 2029.3583984375\n",
      "Epoch 1400/3000,\t loss : 1960.6134033203125\n",
      "Epoch 1500/3000,\t loss : 1895.183349609375\n",
      "Epoch 1600/3000,\t loss : 1832.908203125\n",
      "Epoch 1700/3000,\t loss : 1773.6363525390625\n",
      "Epoch 1800/3000,\t loss : 1717.2227783203125\n",
      "Epoch 1900/3000,\t loss : 1663.529296875\n",
      "Epoch 2000/3000,\t loss : 1612.42529296875\n",
      "Epoch 2100/3000,\t loss : 1563.78564453125\n",
      "Epoch 2200/3000,\t loss : 1517.4913330078125\n",
      "Epoch 2300/3000,\t loss : 1473.4293212890625\n",
      "Epoch 2400/3000,\t loss : 1431.4918212890625\n",
      "Epoch 2500/3000,\t loss : 1391.5771484375\n",
      "Epoch 2600/3000,\t loss : 1353.587646484375\n",
      "Epoch 2700/3000,\t loss : 1317.4296875\n",
      "Epoch 2800/3000,\t loss : 1283.015869140625\n",
      "Epoch 2900/3000,\t loss : 1250.26123046875\n",
      "Epoch 3000/3000,\t loss : 1219.086181640625\n",
      "\n",
      "cuda 학습 소요시간  1.132819414138794\n"
     ]
    }
   ],
   "source": [
    "# 추가 모듈 로드\n",
    "import torch.nn as nn\n",
    "import time\n",
    "\n",
    "# torch 데이터 유형, 백엔드 설정\n",
    "dtype = torch.float\n",
    "\n",
    "# 3개 변수를 가진 다중회귀 모형 샘플 데이터 설정\n",
    "x = torch.randint(10, (100, 3),device = device, dtype=dtype)\n",
    "y = torch.randint(100, 200, (100, 1),device = device, dtype=dtype)\n",
    "\n",
    "# 선형 모델 구성\n",
    "ml_model = nn.Linear(3,1) # 3x1 (변수 할당)\n",
    "ml_model.to(device)\n",
    "\n",
    "# 옵티마이저\n",
    "optimizer = torch.optim.SGD(ml_model.parameters(), lr = 1e-3)\n",
    "\n",
    "# epoch 설정\n",
    "total_epoch = 3000\n",
    "\n",
    "# 학습 시작\n",
    "train_start = time.time()\n",
    "for epoch in range(total_epoch+1):\n",
    "\n",
    "    # 예측값\n",
    "    prediction = ml_model(x)\n",
    "\n",
    "    # 비용 (Class가 아니므로 nn.functional 사용)\n",
    "    loss = nn.functional.mse_loss(prediction, y)\n",
    "\n",
    "    # 역전파\n",
    "    optimizer.zero_grad()\n",
    "    loss.backward()\n",
    "    optimizer.step()\n",
    "\n",
    "\t# 중간 기록\n",
    "    if epoch % 100 == 0:\n",
    "        print(f\"Epoch {epoch}/{total_epoch},\\t loss : {loss.item()}\")\n",
    "        \n",
    "train_end = time.time()\n",
    "\n",
    "# 학습 소요 시간 확인\n",
    "print()\n",
    "print(device.type, '학습 소요시간 ',train_end-train_start)"
   ]
  },
  {
   "cell_type": "markdown",
   "metadata": {},
   "source": [
    "# Pytorch Tensor Allocation"
   ]
  },
  {
   "cell_type": "code",
   "execution_count": 44,
   "metadata": {},
   "outputs": [
    {
     "name": "stdout",
     "output_type": "stream",
     "text": [
      "rank : 1\n",
      "shape : torch.Size([7])\n",
      "shape : torch.Size([7])\n"
     ]
    }
   ],
   "source": [
    "# 1D tensor(vector)\n",
    "t = torch.FloatTensor([0, 1, 2, 3, 4, 5, 6])\n",
    "print(\"rank :\", t.dim())\n",
    "print(\"shape :\", t.shape)\n",
    "print(\"shape :\", t.size())"
   ]
  },
  {
   "cell_type": "code",
   "execution_count": 45,
   "metadata": {},
   "outputs": [
    {
     "name": "stdout",
     "output_type": "stream",
     "text": [
      "2\n",
      "torch.Size([4, 3])\n",
      "tensor([ 2.,  5.,  8., 11.])\n",
      "torch.Size([4])\n",
      "tensor([[ 1.,  2.],\n",
      "        [ 4.,  5.],\n",
      "        [ 7.,  8.],\n",
      "        [10., 11.]])\n"
     ]
    }
   ],
   "source": [
    "# 2D tensor(matrix)\n",
    "t = torch.FloatTensor([[1, 2, 3],\n",
    "                       [4, 5, 6],\n",
    "                       [7, 8, 9],\n",
    "                       [10, 11, 12]\n",
    "                       ])\n",
    "print(t.dim(), t.size(), sep = '\\n')\n",
    "print(t[:, 1], t[:, 1].size(), sep = '\\n')\n",
    "\n",
    "print(t[:, :-1]) # :-1 = 0:2"
   ]
  },
  {
   "cell_type": "code",
   "execution_count": 46,
   "metadata": {},
   "outputs": [
    {
     "name": "stdout",
     "output_type": "stream",
     "text": [
      "torch.Size([2, 2]) torch.Size([2])\n",
      "tensor([ 5, 11])\n",
      "tensor([[1, 4],\n",
      "        [3, 8]])\n"
     ]
    }
   ],
   "source": [
    "# matmul vs. mul\n",
    "m1 = torch.tensor([[1, 2],\n",
    "                   [3, 4]])\n",
    "m2 = torch.tensor([1, 2]) # m2 = torch.tensor([[1], [2]])랑 결과 다르게 나옴.\n",
    "print(m1.shape, m2.shape)\n",
    "print(m1.matmul(m2))\n",
    "print(m1.mul(m2)) # m1 * m2"
   ]
  },
  {
   "cell_type": "code",
   "execution_count": 47,
   "metadata": {},
   "outputs": [
    {
     "name": "stdout",
     "output_type": "stream",
     "text": [
      "tensor(2.5000)\n",
      "tensor([2., 3.])\n",
      "tensor([1.5000, 3.5000])\n",
      "tensor([3., 7.])\n"
     ]
    }
   ],
   "source": [
    "# mean, sum\n",
    "t = torch.FloatTensor([[1, 2],\n",
    "                       [3, 4]])\n",
    "print(t.mean())\n",
    "print(t.mean(dim=0))\n",
    "print(t.mean(dim=1))\n",
    "\n",
    "print(t.sum(dim=-1))"
   ]
  },
  {
   "cell_type": "code",
   "execution_count": 48,
   "metadata": {},
   "outputs": [
    {
     "name": "stdout",
     "output_type": "stream",
     "text": [
      "tensor(4.)\n",
      "torch.return_types.max(\n",
      "values=tensor([3., 4.]),\n",
      "indices=tensor([1, 1]))\n",
      "tensor([1, 1])\n",
      "Max : tensor([3., 4.])\n",
      "Argmax : tensor([1, 1])\n"
     ]
    }
   ],
   "source": [
    "# max, argmax\n",
    "t = torch.FloatTensor([[1, 2],\n",
    "                       [3, 4]])\n",
    "print(t.max(), t.max(dim=0), t.argmax(dim=1), sep = '\\n') # max에 dim 인자를 주면 argmax도 함께 리턴\n",
    "\n",
    "print(\"Max :\", t.max(dim=0)[0])\n",
    "print(\"Argmax :\", t.max(dim=0)[1])"
   ]
  },
  {
   "cell_type": "code",
   "execution_count": 49,
   "metadata": {},
   "outputs": [
    {
     "name": "stdout",
     "output_type": "stream",
     "text": [
      "tensor([[ 0.,  1.,  2.],\n",
      "        [ 3.,  4.,  5.],\n",
      "        [ 6.,  7.,  8.],\n",
      "        [ 9., 10., 11.]])\n",
      "torch.Size([4, 3])\n"
     ]
    }
   ],
   "source": [
    "# view\n",
    "import numpy as np\n",
    "t = np.array([[[0, 1, 2],\n",
    "              [3, 4, 5],],\n",
    "              [[6, 7, 8],\n",
    "               [9, 10, 11]]])\n",
    "ft = torch.FloatTensor(t)\n",
    "\n",
    "print(ft.view([-1, 3]), ft.view([-1, 3]).shape, sep = '\\n')"
   ]
  },
  {
   "cell_type": "code",
   "execution_count": 50,
   "metadata": {},
   "outputs": [
    {
     "name": "stdout",
     "output_type": "stream",
     "text": [
      "tensor([[0.],\n",
      "        [1.],\n",
      "        [2.]]) torch.Size([3, 1])\n",
      "tensor([0., 1., 2.]) torch.Size([3])\n",
      "tensor([[0.],\n",
      "        [1.],\n",
      "        [2.]]) torch.Size([3, 1])\n"
     ]
    }
   ],
   "source": [
    "# squeeze, unsqueeze\n",
    "ft = torch.FloatTensor([[0], [1], [2]])\n",
    "print(ft, ft.shape)\n",
    "ft_new = ft.squeeze()\n",
    "print(ft_new, ft_new.shape)\n",
    "ft_renew = ft_new.unsqueeze(dim=-1) # unsqueeze(-1) 해도 결과 같음.\n",
    "print(ft_renew, ft_renew.shape)"
   ]
  },
  {
   "cell_type": "code",
   "execution_count": 51,
   "metadata": {},
   "outputs": [
    {
     "name": "stdout",
     "output_type": "stream",
     "text": [
      "tensor([[1., 2.],\n",
      "        [3., 4.],\n",
      "        [5., 6.],\n",
      "        [7., 8.]])\n",
      "tensor([[1., 2., 5., 6.],\n",
      "        [3., 4., 7., 8.]])\n",
      "tensor([[1., 4.],\n",
      "        [2., 5.],\n",
      "        [3., 6.]])\n",
      "tensor([1., 4., 2., 5., 3., 6.])\n",
      "tensor([[1., 4.],\n",
      "        [2., 5.],\n",
      "        [3., 6.]])\n",
      "tensor([[1., 2., 3.],\n",
      "        [4., 5., 6.]])\n"
     ]
    }
   ],
   "source": [
    "# concatenate, stack\n",
    "x, y = torch.FloatTensor([[1, 2], [3, 4]]), torch.FloatTensor([[5, 6], [7, 8]])\n",
    "print(torch.cat([x, y], dim = 0))\n",
    "print(torch.cat([x, y], dim = 1))\n",
    "\n",
    "x, y, z = torch.FloatTensor([1, 4]), torch.FloatTensor([2, 5]), torch.FloatTensor([3, 6])\n",
    "print(torch.stack([x, y, z]))\n",
    "print(torch.cat([x, y, z], dim = 0))\n",
    "print(torch.cat([x.unsqueeze(0), y.unsqueeze(0), z.unsqueeze(0)], dim = 0))\n",
    "print(torch.stack([x, y, z], dim=1))"
   ]
  },
  {
   "cell_type": "code",
   "execution_count": 52,
   "metadata": {},
   "outputs": [
    {
     "name": "stdout",
     "output_type": "stream",
     "text": [
      "tensor([[1., 1., 1.],\n",
      "        [1., 1., 1.]])\n",
      "tensor([[0., 0., 0.],\n",
      "        [0., 0., 0.]])\n"
     ]
    }
   ],
   "source": [
    "# ones_like, zeros_like\n",
    "x = torch.FloatTensor([[0, 1, 2], [3, 4, 5]])\n",
    "print(torch.ones_like(x), torch.zeros_like(x), sep = '\\n')"
   ]
  },
  {
   "cell_type": "code",
   "execution_count": 53,
   "metadata": {},
   "outputs": [
    {
     "name": "stdout",
     "output_type": "stream",
     "text": [
      "tensor([[ 2.,  4.,  6.],\n",
      "        [ 8., 10., 12.]])\n",
      "tensor([[1., 2., 3.],\n",
      "        [4., 5., 6.]])\n",
      "tensor([[ 2.,  4.,  6.],\n",
      "        [ 8., 10., 12.]])\n",
      "tensor([[ 2.,  4.,  6.],\n",
      "        [ 8., 10., 12.]])\n"
     ]
    }
   ],
   "source": [
    "# in-place operation\n",
    "x = torch.FloatTensor([[1, 2, 3], [4, 5, 6]])\n",
    "print(x.mul(2))\n",
    "print(x)\n",
    "print(x.mul_(2))\n",
    "print(x)"
   ]
  }
 ],
 "metadata": {
  "kernelspec": {
   "display_name": "Python 3",
   "language": "python",
   "name": "python3"
  },
  "language_info": {
   "codemirror_mode": {
    "name": "ipython",
    "version": 3
   },
   "file_extension": ".py",
   "mimetype": "text/x-python",
   "name": "python",
   "nbconvert_exporter": "python",
   "pygments_lexer": "ipython3",
   "version": "3.11.7"
  }
 },
 "nbformat": 4,
 "nbformat_minor": 2
}
