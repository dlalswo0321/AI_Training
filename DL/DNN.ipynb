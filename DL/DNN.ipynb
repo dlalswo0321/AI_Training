{
 "cells": [
  {
   "cell_type": "markdown",
   "metadata": {},
   "source": [
    "# Deep Neural Network\n",
    "## data 준비"
   ]
  },
  {
   "cell_type": "code",
   "execution_count": 16,
   "metadata": {},
   "outputs": [
    {
     "data": {
      "text/plain": [
       "'mps'"
      ]
     },
     "execution_count": 16,
     "metadata": {},
     "output_type": "execute_result"
    }
   ],
   "source": [
    "import torch\n",
    "\n",
    "device = 'cuda:0' if torch.cuda.is_available() else 'mps' if torch.backends.mps.is_available() else 'cpu'\n",
    "torch.manual_seed(777)\n",
    "device"
   ]
  },
  {
   "cell_type": "code",
   "execution_count": 17,
   "metadata": {},
   "outputs": [],
   "source": [
    "from torchvision import transforms\n",
    "transform = transforms.Compose([\n",
    "    transforms.ToTensor(),\n",
    "    # transforms.Normalize(0.5, 0.5)\n",
    "])"
   ]
  },
  {
   "cell_type": "code",
   "execution_count": 18,
   "metadata": {},
   "outputs": [],
   "source": [
    "from torchvision import datasets\n",
    "import os\n",
    "\n",
    "path = \"../../../\"\n",
    "\n",
    "training_data = datasets.FashionMNIST(\n",
    "    root=path,\n",
    "    train=True,\n",
    "    download=True,\n",
    "    transform=transform\n",
    ")\n",
    "\n",
    "test_data = datasets.FashionMNIST(\n",
    "    root=path,\n",
    "    train=False,\n",
    "    download=True,\n",
    "    transform=transform\n",
    ")\n",
    "\n",
    "from torch.utils.data import DataLoader\n",
    "\n",
    "train_dataloader = DataLoader(training_data, batch_size=64, shuffle=True)\n",
    "test_dataloader = DataLoader(test_data, batch_size=64, shuffle=True)"
   ]
  },
  {
   "cell_type": "markdown",
   "metadata": {},
   "source": [
    "## model 준비, 학습"
   ]
  },
  {
   "cell_type": "code",
   "execution_count": 19,
   "metadata": {},
   "outputs": [
    {
     "data": {
      "text/plain": [
       "Sequential(\n",
       "  (0): Linear(in_features=784, out_features=100, bias=True)\n",
       "  (1): Sigmoid()\n",
       "  (2): Linear(in_features=100, out_features=10, bias=True)\n",
       "  (3): Softmax(dim=None)\n",
       ")"
      ]
     },
     "execution_count": 19,
     "metadata": {},
     "output_type": "execute_result"
    }
   ],
   "source": [
    "import torch.nn as nn\n",
    "\n",
    "linear1 = nn.Linear(28*28, 100)\n",
    "sigmoid = nn.Sigmoid()\n",
    "linear2 = nn.Linear(100, 10)\n",
    "softmax = nn.Softmax()\n",
    "model = nn.Sequential(linear1, sigmoid, linear2, softmax).to(device)\n",
    "\n",
    "model"
   ]
  },
  {
   "cell_type": "code",
   "execution_count": 20,
   "metadata": {},
   "outputs": [],
   "source": [
    "from torch import optim\n",
    "\n",
    "criterion = nn.CrossEntropyLoss()\n",
    "optimizer = optim.Adam(model.parameters(), lr = 0.01)"
   ]
  },
  {
   "cell_type": "code",
   "execution_count": 21,
   "metadata": {},
   "outputs": [
    {
     "name": "stdout",
     "output_type": "stream",
     "text": [
      "Acurracy in epoch 1 : 46177/60000 (77%)\n",
      "Acurracy in epoch 2 : 48272/60000 (80%)\n",
      "Acurracy in epoch 3 : 48684/60000 (81%)\n",
      "Acurracy in epoch 4 : 48746/60000 (81%)\n",
      "Acurracy in epoch 5 : 48788/60000 (81%)\n"
     ]
    }
   ],
   "source": [
    "def train(epoch):\n",
    "    cnt = 0\n",
    "    for cnt in range(epoch):\n",
    "        model.train()\n",
    "        correct = 0\n",
    "        for data, targets in train_dataloader:\n",
    "            data = data.reshape(-1, 28*28).to(device)\n",
    "            targets = targets.to(device)\n",
    "            \n",
    "            optimizer.zero_grad()\n",
    "            outputs = model(data)\n",
    "            loss = criterion(outputs, targets)\n",
    "            loss.backward()\n",
    "            optimizer.step()\n",
    "            \n",
    "            predicted = torch.argmax(outputs.data, 1)\n",
    "            correct += predicted.eq(targets.data.view_as(predicted)).sum()\n",
    "        data_num = len(train_dataloader.dataset)\n",
    "        cnt += 1\n",
    "        print(\"Acurracy in epoch {} : {}/{} ({:.0f}%)\".format(cnt, correct, data_num, 100*correct/data_num))\n",
    "\n",
    "train(5)"
   ]
  },
  {
   "cell_type": "markdown",
   "metadata": {},
   "source": [
    "### ReLU 함수 사용\n",
    "Relu로 하니까 너무 성능이 떨어져서 LeakyReLU로 바꿈."
   ]
  },
  {
   "cell_type": "code",
   "execution_count": 22,
   "metadata": {},
   "outputs": [
    {
     "name": "stdout",
     "output_type": "stream",
     "text": [
      "Acurracy in epoch 1 : 43855/60000 (73%)\n",
      "Acurracy in epoch 2 : 45128/60000 (75%)\n",
      "Acurracy in epoch 3 : 45954/60000 (77%)\n",
      "Acurracy in epoch 4 : 47654/60000 (79%)\n",
      "Acurracy in epoch 5 : 47908/60000 (80%)\n"
     ]
    }
   ],
   "source": [
    "model = nn.Sequential(\n",
    "    nn.Linear(28*28, 100),\n",
    "    nn.LeakyReLU(),\n",
    "    nn.Linear(100, 10),\n",
    "    nn.Softmax()\n",
    ").to(device)\n",
    "\n",
    "criterion = nn.CrossEntropyLoss()\n",
    "optimizer = optim.Adam(model.parameters(), lr = 0.01)\n",
    "\n",
    "train(5)"
   ]
  },
  {
   "cell_type": "code",
   "execution_count": 23,
   "metadata": {},
   "outputs": [
    {
     "name": "stdout",
     "output_type": "stream",
     "text": [
      "Acuraccy in test : 7809/10000 (78%)\n"
     ]
    }
   ],
   "source": [
    "def test():\n",
    "    model.eval()\n",
    "    correct = 0\n",
    "    \n",
    "    with torch.no_grad():\n",
    "        for data, targets in test_dataloader:\n",
    "            data = data.to(device).view(-1, 28*28)\n",
    "            targets = targets.to(device)\n",
    "            outputs = model(data)\n",
    "            \n",
    "            # _, predicted = torch.max(outputs.data, 1)\n",
    "            predicted = torch.argmax(outputs.data, 1)\n",
    "            correct += predicted.eq(targets.data.view_as(predicted)).sum()\n",
    "            \n",
    "        data_num = len(test_dataloader.dataset)\n",
    "        print(\"Acuraccy in test : {}/{} ({:.0f}%)\".format(correct, data_num, 100*correct/data_num))\n",
    "        \n",
    "test()"
   ]
  },
  {
   "cell_type": "code",
   "execution_count": 25,
   "metadata": {},
   "outputs": [
    {
     "name": "stdout",
     "output_type": "stream",
     "text": [
      "predict is\t: Sandal\n",
      "answer is\t: Sandal\n"
     ]
    },
    {
     "data": {
      "image/png": "[encoded data removed]",
      "text/plain": [
       "<Figure size 640x480 with 1 Axes>"
      ]
     },
     "metadata": {},
     "output_type": "display_data"
    }
   ],
   "source": [
    "labels_map = {\n",
    "    0: \"T-Shirt\",\n",
    "    1: \"Trouser\",\n",
    "    2: \"Pullover\",\n",
    "    3: \"Dress\",\n",
    "    4: \"Coat\",\n",
    "    5: \"Sandal\",\n",
    "    6: \"Shirt\",\n",
    "    7: \"Sneaker\",\n",
    "    8: \"Bag\",\n",
    "    9: \"Ankle Boot\",\n",
    "}\n",
    "\n",
    "import matplotlib.pyplot as plt\n",
    "import random as r\n",
    "index = r.randint(0, len(test_data))\n",
    "\n",
    "model.eval()\n",
    "\n",
    "data, target = test_dataloader.dataset[index]\n",
    "data = data.to(device).reshape(28*28)\n",
    "output = model(data)\n",
    "predicted = torch.argmax(output.data, 0)\n",
    "print(\"predict is\\t:\", labels_map[predicted.item()])\n",
    "\n",
    "data_show = data.cpu().numpy()\n",
    "plt.imshow(data_show.reshape(28, 28), cmap = 'gray_r')\n",
    "print(\"answer is\\t:\", labels_map[target])"
   ]
  }
 ],
 "metadata": {
  "kernelspec": {
   "display_name": "Python 3",
   "language": "python",
   "name": "python3"
  },
  "language_info": {
   "codemirror_mode": {
    "name": "ipython",
    "version": 3
   },
   "file_extension": ".py",
   "mimetype": "text/x-python",
   "name": "python",
   "nbconvert_exporter": "python",
   "pygments_lexer": "ipython3",
   "version": "3.11.6"
  }
 },
 "nbformat": 4,
 "nbformat_minor": 2
}
