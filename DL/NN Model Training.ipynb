{
 "cells": [
  {
   "cell_type": "markdown",
   "metadata": {},
   "source": [
    "# Neural Network Model Training"
   ]
  },
  {
   "cell_type": "code",
   "execution_count": 106,
   "metadata": {},
   "outputs": [
    {
     "data": {
      "text/plain": [
       "'cuda'"
      ]
     },
     "execution_count": 106,
     "metadata": {},
     "output_type": "execute_result"
    }
   ],
   "source": [
    "import torch\n",
    "\n",
    "device = 'cuda' if torch.cuda.is_available() else 'mps' if torch.backends.mps.is_available() else 'cpu'\n",
    "device"
   ]
  },
  {
   "cell_type": "code",
   "execution_count": 107,
   "metadata": {},
   "outputs": [],
   "source": [
    "from torchvision import datasets, transforms\n",
    "from torch.utils.data import DataLoader\n",
    "transform = transforms.Compose([\n",
    "    transforms.ToTensor(),\n",
    "    transforms.Normalize((0.5,),(0.5,))\n",
    "])\n",
    "\n",
    "path = \"../../../\"\n",
    "\n",
    "training_data = datasets.FashionMNIST(\n",
    "    root=path,\n",
    "    train=True,\n",
    "    download=True,\n",
    "    transform=transform\n",
    ")\n",
    "\n",
    "test_data = datasets.FashionMNIST(\n",
    "    root=path,\n",
    "    train=False,\n",
    "    download=True,\n",
    "    transform=transform\n",
    ")\n",
    "\n",
    "# 교차 검증을 해볼 예정이라 training_data는 dataloader로 사용하지 않는다(train, val 찢고 따로 dataloader 정의할 예정).\n",
    "\n",
    "test_dataloader = DataLoader(test_data, batch_size=64, shuffle=True)"
   ]
  },
  {
   "cell_type": "markdown",
   "metadata": {},
   "source": [
    "## Model 정의 및 Cross Validation 실행\n",
    "### Cross Validation\n",
    "training_data를 KFold를 이용해서 n-fold의 subset으로 나눈 뒤 dataloader 정의."
   ]
  },
  {
   "cell_type": "code",
   "execution_count": 108,
   "metadata": {},
   "outputs": [],
   "source": [
    "import torch.nn as nn\n",
    "import torch.nn.functional as F\n",
    "\n",
    "class Classifier(nn.Module):\n",
    "    def __init__(self):\n",
    "        super().__init__()\n",
    "        self.linear1 = nn.Linear(28*28, 100)\n",
    "        self.linear2 = nn.Linear(100, 10)\n",
    "        \n",
    "    def forward(self, x):\n",
    "        x = F.relu(self.linear1(x))\n",
    "        x = F.softmax(self.linear2(x))\n",
    "        return x"
   ]
  },
  {
   "cell_type": "code",
   "execution_count": 109,
   "metadata": {},
   "outputs": [],
   "source": [
    "import torch\n",
    "import torch.nn as nn\n",
    "import torch.optim as optim\n",
    "\n",
    "def CrossValidation(model, train_loader, val_loader, num_epochs=5, learning_rate=0.001):\n",
    "    # 손실 함수 및 최적화 알고리즘 설정\n",
    "    criterion = nn.CrossEntropyLoss()\n",
    "    optimizer = optim.Adam(model.parameters(), lr=learning_rate)\n",
    "\n",
    "    # 각 에폭에 대한 리스트 초기화\n",
    "    train_losses, val_losses = [], []\n",
    "\n",
    "    for epoch in range(num_epochs):\n",
    "        # 훈련 모드로 설정\n",
    "        model.train()\n",
    "\n",
    "        # 훈련 데이터에 대한 에폭 내 손실 누적\n",
    "        train_loss = 0.0\n",
    "        for inputs, labels in train_loader:\n",
    "            inputs = inputs.to(device).reshape(-1, 28*28)\n",
    "            labels = labels.to(device)\n",
    "            optimizer.zero_grad()\n",
    "\n",
    "            outputs = model(inputs)\n",
    "            loss = criterion(outputs, labels)\n",
    "            loss.backward()\n",
    "            optimizer.step()\n",
    "\n",
    "            train_loss += loss.item() * inputs.size(0)\n",
    "\n",
    "        # 평균 훈련 손실 계산\n",
    "        train_loss = train_loss / len(train_loader.dataset)\n",
    "        train_losses.append(train_loss)\n",
    "\n",
    "        # 검증 모드로 설정\n",
    "        model.eval()\n",
    "\n",
    "        # 검증 데이터에 대한 손실 누적\n",
    "        val_loss = 0.0\n",
    "        with torch.no_grad():\n",
    "            for inputs, labels in val_loader:\n",
    "                inputs = inputs.to(device).reshape(-1, 28*28)\n",
    "                labels = labels.to(device)\n",
    "                outputs = model(inputs)\n",
    "                loss = criterion(outputs, labels)\n",
    "\n",
    "                val_loss += loss.item() * inputs.size(0)\n",
    "\n",
    "        # 평균 검증 손실 계산\n",
    "        val_loss = val_loss / len(val_loader.dataset)\n",
    "        val_losses.append(val_loss)\n",
    "\n",
    "        # 에폭마다 손실 출력\n",
    "        print(f'Epoch {epoch+1}/{num_epochs} => '\n",
    "              f'Training Loss: {train_loss:.4f}, Validation Loss: {val_loss:.4f}')\n",
    "\n",
    "    return train_losses, val_losses\n"
   ]
  },
  {
   "cell_type": "code",
   "execution_count": 110,
   "metadata": {},
   "outputs": [],
   "source": [
    "def eval(model, dataloader):\n",
    "    model.eval()\n",
    "    correct = 0\n",
    "    with torch.no_grad():\n",
    "        for data in dataloader:\n",
    "            inputs, targets = data\n",
    "            inputs = inputs.to(device).reshape(-1, 28*28)\n",
    "            targets = targets.to(device)\n",
    "            outputs = model(inputs)\n",
    "            \n",
    "            predicted = torch.argmax(outputs.data, 1).to(device)\n",
    "            correct += predicted.eq(targets.data.view_as(predicted)).sum()\n",
    "            \n",
    "    data_num = len(dataloader.dataset)\n",
    "    print(\"Acuraccy in test : {}/{} ({:.0f}%)\".format(correct, data_num, 100*correct/data_num))"
   ]
  },
  {
   "cell_type": "code",
   "execution_count": 111,
   "metadata": {},
   "outputs": [
    {
     "name": "stdout",
     "output_type": "stream",
     "text": [
      "Fold 1\n"
     ]
    },
    {
     "name": "stderr",
     "output_type": "stream",
     "text": [
      "C:\\Users\\민재\\AppData\\Local\\Temp\\ipykernel_9332\\2991853494.py:12: UserWarning: Implicit dimension choice for softmax has been deprecated. Change the call to include dim=X as an argument.\n",
      "  x = F.softmax(self.linear2(x))\n"
     ]
    },
    {
     "name": "stdout",
     "output_type": "stream",
     "text": [
      "Epoch 1/5 => Training Loss: 1.7067, Validation Loss: 1.6461\n",
      "Epoch 2/5 => Training Loss: 1.6319, Validation Loss: 1.6176\n",
      "Epoch 3/5 => Training Loss: 1.6166, Validation Loss: 1.6157\n",
      "Epoch 4/5 => Training Loss: 1.6078, Validation Loss: 1.6020\n",
      "Epoch 5/5 => Training Loss: 1.6033, Validation Loss: 1.5981\n",
      "Fold 2\n",
      "Epoch 1/5 => Training Loss: 1.5974, Validation Loss: 1.5988\n",
      "Epoch 2/5 => Training Loss: 1.5913, Validation Loss: 1.5971\n",
      "Epoch 3/5 => Training Loss: 1.5890, Validation Loss: 1.5965\n",
      "Epoch 4/5 => Training Loss: 1.5841, Validation Loss: 1.5997\n",
      "Epoch 5/5 => Training Loss: 1.5819, Validation Loss: 1.5881\n",
      "Fold 3\n",
      "Epoch 1/5 => Training Loss: 1.5833, Validation Loss: 1.5752\n",
      "Epoch 2/5 => Training Loss: 1.5783, Validation Loss: 1.5902\n",
      "Epoch 3/5 => Training Loss: 1.5776, Validation Loss: 1.5820\n",
      "Epoch 4/5 => Training Loss: 1.5750, Validation Loss: 1.5848\n",
      "Epoch 5/5 => Training Loss: 1.5718, Validation Loss: 1.5794\n",
      "Fold 4\n",
      "Epoch 1/5 => Training Loss: 1.5727, Validation Loss: 1.5706\n",
      "Epoch 2/5 => Training Loss: 1.5714, Validation Loss: 1.5667\n",
      "Epoch 3/5 => Training Loss: 1.5689, Validation Loss: 1.5741\n",
      "Epoch 4/5 => Training Loss: 1.5671, Validation Loss: 1.5673\n",
      "Epoch 5/5 => Training Loss: 1.5651, Validation Loss: 1.5653\n",
      "Fold 5\n",
      "Epoch 1/5 => Training Loss: 1.5664, Validation Loss: 1.5654\n",
      "Epoch 2/5 => Training Loss: 1.5651, Validation Loss: 1.5580\n",
      "Epoch 3/5 => Training Loss: 1.5636, Validation Loss: 1.5648\n",
      "Epoch 4/5 => Training Loss: 1.5625, Validation Loss: 1.5633\n",
      "Epoch 5/5 => Training Loss: 1.5589, Validation Loss: 1.5623\n"
     ]
    },
    {
     "data": {
      "image/png": "[encoded data removed]",
      "text/plain": [
       "<Figure size 640x480 with 1 Axes>"
      ]
     },
     "metadata": {},
     "output_type": "display_data"
    }
   ],
   "source": [
    "from sklearn.model_selection import StratifiedKFold\n",
    "from torch.utils.data import Subset, DataLoader\n",
    "\n",
    "n = 5\n",
    "kfold = StratifiedKFold(n_splits=n, shuffle=True, random_state=42)\n",
    "\n",
    "model = Classifier().to(device)\n",
    "train_losses, val_losses = [], []\n",
    "\n",
    "# 데이터셋을 교차 검증용으로 나누기\n",
    "for fold, (train_idx, val_idx) in enumerate(kfold.split(training_data.data, training_data.targets)):\n",
    "    print(f\"Fold {fold + 1}\")\n",
    "\n",
    "    # 데이터 로더 생성\n",
    "    train_dataset = Subset(training_data, train_idx)\n",
    "    val_dataset = Subset(training_data, val_idx)\n",
    "\n",
    "    train_loader = DataLoader(train_dataset, batch_size=64, shuffle=True)\n",
    "    val_loader = DataLoader(val_dataset, batch_size=64, shuffle=False)\n",
    "\n",
    "    # 여기에서 모델 훈련 및 평가 수행\n",
    "    train_loss, val_loss = CrossValidation(model, train_loader, val_loader, num_epochs=n)\n",
    "    \n",
    "    # ...\n",
    "    '''\n",
    "    # 예시: 각 폴드에서 첫 번째 배치의 데이터 출력\n",
    "    for batch in train_loader:\n",
    "        inputs, labels = batch\n",
    "        print(f\"Train Batch - Inputs Shape: {inputs.shape}, Labels Shape: {labels.shape}\")\n",
    "        break\n",
    "\n",
    "    for batch in val_loader:\n",
    "        inputs, labels = batch\n",
    "        print(f\"Validation Batch - Inputs Shape: {inputs.shape}, Labels Shape: {labels.shape}\")\n",
    "        break\n",
    "    '''\n",
    "    \n",
    "    train_losses = train_losses + train_loss\n",
    "    val_losses = val_losses + val_loss\n",
    "# 교차 검증 결과 시각화\n",
    "import matplotlib.pyplot as plt\n",
    "\n",
    "plt.plot(range(1, len(train_losses) + 1), train_losses, label='Training Loss')\n",
    "plt.plot(range(1, len(val_losses) + 1), val_losses, label='Validation Loss')\n",
    "plt.xlabel('Fold')\n",
    "plt.ylabel('Loss')\n",
    "plt.legend()\n",
    "plt.show()"
   ]
  },
  {
   "cell_type": "markdown",
   "metadata": {},
   "source": [
    "## Dropout 적용"
   ]
  },
  {
   "cell_type": "code",
   "execution_count": 112,
   "metadata": {},
   "outputs": [],
   "source": [
    "class ClassifierWithDropout(nn.Module):\n",
    "    def __init__(self, dropout_prob = 0.3):\n",
    "        super().__init__()\n",
    "        self.linear1 = nn.Linear(28*28, 100)\n",
    "        self.dropout = nn.Dropout(p = dropout_prob)\n",
    "        self.linear2 = nn.Linear(100, 10)\n",
    "        \n",
    "    def forward(self, x):\n",
    "        x = F.relu(self.linear1(x))\n",
    "        x = self.dropout(x)\n",
    "        x = F.softmax(self.linear2(x))\n",
    "        return x"
   ]
  },
  {
   "cell_type": "code",
   "execution_count": 113,
   "metadata": {},
   "outputs": [
    {
     "name": "stderr",
     "output_type": "stream",
     "text": [
      "C:\\Users\\민재\\AppData\\Local\\Temp\\ipykernel_9332\\1587905957.py:11: UserWarning: Implicit dimension choice for softmax has been deprecated. Change the call to include dim=X as an argument.\n",
      "  x = F.softmax(self.linear2(x))\n"
     ]
    },
    {
     "name": "stdout",
     "output_type": "stream",
     "text": [
      "Accuracy in epoch  1 : 35518/48000 (74.00%)\n",
      "Accuracy in epoch  2 : 39063/48000 (81.38%)\n",
      "Accuracy in epoch  3 : 39864/48000 (83.05%)\n",
      "Accuracy in epoch  4 : 40348/48000 (84.06%)\n",
      "Accuracy in epoch  5 : 40628/48000 (84.64%)\n",
      "Accuracy in epoch  6 : 40795/48000 (84.99%)\n",
      "Accuracy in epoch  7 : 40998/48000 (85.41%)\n",
      "Accuracy in epoch  8 : 41153/48000 (85.74%)\n",
      "Accuracy in epoch  9 : 41243/48000 (85.92%)\n",
      "Accuracy in epoch 10 : 41457/48000 (86.37%)\n"
     ]
    },
    {
     "data": {
      "image/png": "[encoded data removed]",
      "text/plain": [
       "<Figure size 640x480 with 1 Axes>"
      ]
     },
     "metadata": {},
     "output_type": "display_data"
    }
   ],
   "source": [
    "Acc_list = []\n",
    "\n",
    "def train(epoch, model, dataloader):\n",
    "    cnt = 0\n",
    "    Accuracy = []\n",
    "    criterion = nn.CrossEntropyLoss()\n",
    "    optimizer = optim.Adam(model.parameters(), lr=0.000523)\n",
    "    \n",
    "    for cnt in range(epoch):\n",
    "        model.train()\n",
    "        correct = 0\n",
    "        \n",
    "        for data, targets in dataloader:\n",
    "            data = data.reshape(-1, 28*28).to(device)\n",
    "            targets = targets.to(device)\n",
    "            \n",
    "            optimizer.zero_grad()\n",
    "            outputs = model(data)\n",
    "            loss = criterion(outputs, targets)\n",
    "            loss.backward()\n",
    "            optimizer.step()\n",
    "            \n",
    "            predicted = torch.argmax(outputs.data, 1)\n",
    "            correct += predicted.eq(targets.data.view_as(predicted)).sum()\n",
    "        \n",
    "        data_num = len(dataloader.dataset)\n",
    "        cnt += 1\n",
    "        accuracy = 100 * correct.to('cpu') / data_num # 뒤에 계산 때문에 cpu로 옮김.\n",
    "        print(\"Accuracy in epoch {:2d} : {}/{} ({:.2f}%)\".format(cnt, correct, data_num, accuracy))\n",
    "        Accuracy.append(accuracy)\n",
    "    \n",
    "    return Accuracy\n",
    "\n",
    "model = ClassifierWithDropout().to(device)\n",
    "\n",
    "acc = train(10, model, train_loader)\n",
    "\n",
    "plt.plot(range(1, len(acc) + 1), acc, label='Training Accuracy')\n",
    "plt.xlabel('epoch')\n",
    "plt.ylabel('Accuracy')\n",
    "plt.legend()\n",
    "plt.show()"
   ]
  },
  {
   "cell_type": "markdown",
   "metadata": {},
   "source": [
    "## Model Save & Load"
   ]
  },
  {
   "cell_type": "code",
   "execution_count": 114,
   "metadata": {},
   "outputs": [
    {
     "name": "stderr",
     "output_type": "stream",
     "text": [
      "C:\\Users\\민재\\AppData\\Local\\Temp\\ipykernel_9332\\1587905957.py:11: UserWarning: Implicit dimension choice for softmax has been deprecated. Change the call to include dim=X as an argument.\n",
      "  x = F.softmax(self.linear2(x))\n"
     ]
    },
    {
     "name": "stdout",
     "output_type": "stream",
     "text": [
      "Acuraccy in test : 1042/10000 (10%)\n"
     ]
    }
   ],
   "source": [
    "# 모델과 옵티마이저 상태를 저장\n",
    "model = ClassifierWithDropout().to(device)\n",
    "epoch = 5\n",
    "torch.save({\n",
    "    'epoch': epoch,\n",
    "    'model_state_dict': model.state_dict(),\n",
    "    'optimizer_state_dict': optimizer.state_dict(),\n",
    "}, 'model_checkpoint.pth')\n",
    "eval(model, test_dataloader)"
   ]
  },
  {
   "cell_type": "code",
   "execution_count": 115,
   "metadata": {},
   "outputs": [
    {
     "name": "stderr",
     "output_type": "stream",
     "text": [
      "C:\\Users\\민재\\AppData\\Local\\Temp\\ipykernel_9332\\1587905957.py:11: UserWarning: Implicit dimension choice for softmax has been deprecated. Change the call to include dim=X as an argument.\n",
      "  x = F.softmax(self.linear2(x))\n"
     ]
    },
    {
     "name": "stdout",
     "output_type": "stream",
     "text": [
      "Acuraccy in test : 1042/10000 (10%)\n",
      "Acuraccy in test : 1042/10000 (10%)\n"
     ]
    }
   ],
   "source": [
    "new_model = ClassifierWithDropout().to(device)\n",
    "\n",
    "# 저장된 모델과 옵티마이저 상태 불러오기\n",
    "checkpoint = torch.load('model_checkpoint.pth')\n",
    "new_model.load_state_dict(checkpoint['model_state_dict'])\n",
    "optimizer.load_state_dict(checkpoint['optimizer_state_dict'])\n",
    "epoch = checkpoint['epoch']\n",
    "\n",
    "# 모델을 평가 또는 추가 훈련에 사용 가능\n",
    "eval(new_model, test_dataloader)\n",
    "eval(model, test_dataloader)"
   ]
  }
 ],
 "metadata": {
  "kernelspec": {
   "display_name": "Python 3",
   "language": "python",
   "name": "python3"
  },
  "language_info": {
   "codemirror_mode": {
    "name": "ipython",
    "version": 3
   },
   "file_extension": ".py",
   "mimetype": "text/x-python",
   "name": "python",
   "nbconvert_exporter": "python",
   "pygments_lexer": "ipython3",
   "version": "3.11.7"
  }
 },
 "nbformat": 4,
 "nbformat_minor": 2
}
