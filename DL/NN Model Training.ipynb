{
 "cells": [
  {
   "cell_type": "markdown",
   "metadata": {},
   "source": [
    "# Neural Network Model Training"
   ]
  },
  {
   "cell_type": "code",
   "execution_count": 81,
   "metadata": {},
   "outputs": [
    {
     "data": {
      "text/plain": [
       "'cuda'"
      ]
     },
     "execution_count": 81,
     "metadata": {},
     "output_type": "execute_result"
    }
   ],
   "source": [
    "import torch\n",
    "\n",
    "device = 'cuda' if torch.cuda.is_available() else 'mps' if torch.backends.mps.is_available() else 'cpu'\n",
    "device"
   ]
  },
  {
   "cell_type": "code",
   "execution_count": 82,
   "metadata": {},
   "outputs": [],
   "source": [
    "from torchvision import datasets, transforms\n",
    "from torch.utils.data import DataLoader\n",
    "transform = transforms.Compose([\n",
    "    transforms.ToTensor(),\n",
    "    transforms.Normalize((0.5,),(0.5,))\n",
    "])\n",
    "\n",
    "path = \"../../../\"\n",
    "\n",
    "training_data = datasets.FashionMNIST(\n",
    "    root=path,\n",
    "    train=True,\n",
    "    download=True,\n",
    "    transform=transform\n",
    ")\n",
    "\n",
    "test_data = datasets.FashionMNIST(\n",
    "    root=path,\n",
    "    train=False,\n",
    "    download=True,\n",
    "    transform=transform\n",
    ")\n",
    "\n",
    "# 교차 검증을 해볼 예정이라 training_data는 dataloader로 사용하지 않는다(train, val 찢고 따로 dataloader 정의할 예정).\n",
    "\n",
    "test_loader = DataLoader(test_data, batch_size=64, shuffle=True)"
   ]
  },
  {
   "cell_type": "markdown",
   "metadata": {},
   "source": [
    "## Model 정의 및 Cross Validation 실행\n",
    "### Cross Validation\n",
    "training_data를 KFold를 이용해서 n-fold의 subset으로 나눈 뒤 dataloader 정의."
   ]
  },
  {
   "cell_type": "code",
   "execution_count": 83,
   "metadata": {},
   "outputs": [],
   "source": [
    "import torch.nn as nn\n",
    "import torch.nn.functional as F\n",
    "\n",
    "class Classifier(nn.Module):\n",
    "    def __init__(self):\n",
    "        super().__init__()\n",
    "        self.linear1 = nn.Linear(28*28, 100)\n",
    "        self.linear2 = nn.Linear(100, 10)\n",
    "        \n",
    "    def forward(self, x):\n",
    "        x = F.relu(self.linear1(x))\n",
    "        x = F.softmax(self.linear2(x), dim = 1)\n",
    "        return x"
   ]
  },
  {
   "cell_type": "code",
   "execution_count": 84,
   "metadata": {},
   "outputs": [],
   "source": [
    "import torch\n",
    "import torch.nn as nn\n",
    "import torch.optim as optim\n",
    "\n",
    "def CrossValidation(model, train_loader, val_loader, num_epochs=5, learning_rate=0.001):\n",
    "    criterion = nn.CrossEntropyLoss()\n",
    "    optimizer = optim.Adam(model.parameters(), lr=learning_rate)\n",
    "\n",
    "    train_losses, val_losses = [], []\n",
    "\n",
    "    for epoch in range(num_epochs):\n",
    "        # training\n",
    "        model.train()\n",
    "        train_loss = 0.0\n",
    "        \n",
    "        for inputs, labels in train_loader:\n",
    "            inputs = inputs.to(device).reshape(-1, 28*28)\n",
    "            labels = labels.to(device)\n",
    "            optimizer.zero_grad()\n",
    "\n",
    "            outputs = model(inputs)\n",
    "            loss = criterion(outputs, labels)\n",
    "            loss.backward()\n",
    "            optimizer.step()\n",
    "\n",
    "            train_loss += loss.item() * inputs.size(0)\n",
    "\n",
    "        train_loss = train_loss / len(train_loader.dataset)\n",
    "        train_losses.append(train_loss)\n",
    "\n",
    "        # validation\n",
    "        model.eval()\n",
    "        val_loss = 0.0\n",
    "        with torch.no_grad():\n",
    "            for inputs, labels in val_loader:\n",
    "                inputs = inputs.to(device).reshape(-1, 28*28)\n",
    "                labels = labels.to(device)\n",
    "                outputs = model(inputs)\n",
    "                loss = criterion(outputs, labels)\n",
    "\n",
    "                val_loss += loss.item() * inputs.size(0)\n",
    "\n",
    "        val_loss = val_loss / len(val_loader.dataset)\n",
    "        val_losses.append(val_loss)\n",
    "\n",
    "        print(f'Epoch {epoch+1}/{num_epochs} => '\n",
    "              f'Training Loss: {train_loss:.4f}, Validation Loss: {val_loss:.4f}')\n",
    "\n",
    "    return train_losses, val_losses"
   ]
  },
  {
   "cell_type": "code",
   "execution_count": 85,
   "metadata": {},
   "outputs": [
    {
     "name": "stdout",
     "output_type": "stream",
     "text": [
      "Fold 1\n",
      "Epoch 1/5 => Training Loss: 1.6950, Validation Loss: 1.6314\n",
      "Epoch 2/5 => Training Loss: 1.6286, Validation Loss: 1.6150\n",
      "Epoch 3/5 => Training Loss: 1.6140, Validation Loss: 1.6114\n",
      "Epoch 4/5 => Training Loss: 1.6072, Validation Loss: 1.6057\n",
      "Epoch 5/5 => Training Loss: 1.6011, Validation Loss: 1.6036\n",
      "Fold 2\n",
      "Epoch 1/5 => Training Loss: 1.5976, Validation Loss: 1.6022\n",
      "Epoch 2/5 => Training Loss: 1.5914, Validation Loss: 1.5919\n",
      "Epoch 3/5 => Training Loss: 1.5871, Validation Loss: 1.6014\n",
      "Epoch 4/5 => Training Loss: 1.5853, Validation Loss: 1.5947\n",
      "Epoch 5/5 => Training Loss: 1.5824, Validation Loss: 1.5932\n",
      "Fold 3\n",
      "Epoch 1/5 => Training Loss: 1.5820, Validation Loss: 1.5771\n",
      "Epoch 2/5 => Training Loss: 1.5794, Validation Loss: 1.5756\n",
      "Epoch 3/5 => Training Loss: 1.5764, Validation Loss: 1.5811\n",
      "Epoch 4/5 => Training Loss: 1.5750, Validation Loss: 1.5781\n",
      "Epoch 5/5 => Training Loss: 1.5729, Validation Loss: 1.5743\n",
      "Fold 4\n",
      "Epoch 1/5 => Training Loss: 1.5721, Validation Loss: 1.5639\n",
      "Epoch 2/5 => Training Loss: 1.5696, Validation Loss: 1.5662\n",
      "Epoch 3/5 => Training Loss: 1.5685, Validation Loss: 1.5712\n",
      "Epoch 4/5 => Training Loss: 1.5657, Validation Loss: 1.5647\n",
      "Epoch 5/5 => Training Loss: 1.5633, Validation Loss: 1.5673\n",
      "Fold 5\n",
      "Epoch 1/5 => Training Loss: 1.5654, Validation Loss: 1.5654\n",
      "Epoch 2/5 => Training Loss: 1.5633, Validation Loss: 1.5652\n",
      "Epoch 3/5 => Training Loss: 1.5616, Validation Loss: 1.5650\n",
      "Epoch 4/5 => Training Loss: 1.5602, Validation Loss: 1.5679\n",
      "Epoch 5/5 => Training Loss: 1.5595, Validation Loss: 1.5600\n"
     ]
    },
    {
     "data": {
      "image/png": "[encoded data removed]",
      "text/plain": [
       "<Figure size 640x480 with 1 Axes>"
      ]
     },
     "metadata": {},
     "output_type": "display_data"
    }
   ],
   "source": [
    "from sklearn.model_selection import StratifiedKFold\n",
    "from torch.utils.data import Subset, DataLoader\n",
    "\n",
    "n = 5\n",
    "kfold = StratifiedKFold(n_splits=n, shuffle=True, random_state=42)\n",
    "\n",
    "model = Classifier().to(device)\n",
    "train_losses, val_losses = [], []\n",
    "\n",
    "# 데이터셋을 교차 검증용으로 나누기\n",
    "for fold, (train_idx, val_idx) in enumerate(kfold.split(training_data.data, training_data.targets)):\n",
    "    print(f\"Fold {fold + 1}\")\n",
    "\n",
    "    # dataloader 생성\n",
    "    train_dataset = Subset(training_data, train_idx)\n",
    "    val_dataset = Subset(training_data, val_idx)\n",
    "\n",
    "    train_loader = DataLoader(train_dataset, batch_size=64, shuffle=True)\n",
    "    val_loader = DataLoader(val_dataset, batch_size=64, shuffle=False)\n",
    "\n",
    "    train_loss, val_loss = CrossValidation(model, train_loader, val_loader, num_epochs=n)\n",
    "    \n",
    "    train_losses = train_losses + train_loss\n",
    "    val_losses = val_losses + val_loss\n",
    "\n",
    "import matplotlib.pyplot as plt\n",
    "\n",
    "plt.plot(range(1, len(train_losses) + 1), train_losses, label='Training Loss')\n",
    "plt.plot(range(1, len(val_losses) + 1), val_losses, label='Validation Loss')\n",
    "plt.xlabel('Fold')\n",
    "plt.ylabel('Loss')\n",
    "plt.legend()\n",
    "plt.show()"
   ]
  },
  {
   "cell_type": "markdown",
   "metadata": {},
   "source": [
    "## Dropout 적용"
   ]
  },
  {
   "cell_type": "code",
   "execution_count": 86,
   "metadata": {},
   "outputs": [],
   "source": [
    "class ClassifierWithDropout(nn.Module):\n",
    "    def __init__(self, dropout_prob = 0.3):\n",
    "        super().__init__()\n",
    "        self.linear1 = nn.Linear(28*28, 100)\n",
    "        self.dropout = nn.Dropout(p = dropout_prob)\n",
    "        self.linear2 = nn.Linear(100, 10)\n",
    "        \n",
    "    def forward(self, x):\n",
    "        x = F.relu(self.linear1(x))\n",
    "        x = self.dropout(x)\n",
    "        x = F.softmax(self.linear2(x), dim = 1)\n",
    "        return x"
   ]
  },
  {
   "cell_type": "code",
   "execution_count": 87,
   "metadata": {},
   "outputs": [
    {
     "name": "stdout",
     "output_type": "stream",
     "text": [
      "Accuracy in epoch  1 : 35500/48000 (73.96%)\n",
      "Accuracy in epoch  2 : 38767/48000 (80.76%)\n",
      "Accuracy in epoch  3 : 39944/48000 (83.22%)\n",
      "Accuracy in epoch  4 : 40442/48000 (84.25%)\n",
      "Accuracy in epoch  5 : 40681/48000 (84.75%)\n",
      "Accuracy in epoch  6 : 40852/48000 (85.11%)\n",
      "Accuracy in epoch  7 : 41038/48000 (85.50%)\n",
      "Accuracy in epoch  8 : 41163/48000 (85.76%)\n",
      "Accuracy in epoch  9 : 41348/48000 (86.14%)\n",
      "Accuracy in epoch 10 : 41482/48000 (86.42%)\n"
     ]
    },
    {
     "data": {
      "image/png": "[encoded data removed]",
      "text/plain": [
       "<Figure size 640x480 with 1 Axes>"
      ]
     },
     "metadata": {},
     "output_type": "display_data"
    }
   ],
   "source": [
    "Acc_list = []\n",
    "\n",
    "def train(epoch, model, dataloader):\n",
    "    cnt = 0\n",
    "    Accuracy = []\n",
    "    criterion = nn.CrossEntropyLoss()\n",
    "    optimizer = optim.Adam(model.parameters(), lr=0.000523)\n",
    "    \n",
    "    for cnt in range(epoch):\n",
    "        model.train()\n",
    "        correct = 0\n",
    "        \n",
    "        for data, targets in dataloader:\n",
    "            data = data.reshape(-1, 28*28).to(device)\n",
    "            targets = targets.to(device)\n",
    "            \n",
    "            optimizer.zero_grad()\n",
    "            outputs = model(data)\n",
    "            loss = criterion(outputs, targets)\n",
    "            loss.backward()\n",
    "            optimizer.step()\n",
    "            \n",
    "            predicted = torch.argmax(outputs.data, 1)\n",
    "            correct += predicted.eq(targets.data.view_as(predicted)).sum()\n",
    "        \n",
    "        data_num = len(dataloader.dataset)\n",
    "        cnt += 1\n",
    "        accuracy = 100 * correct.to('cpu') / data_num # 뒤에 계산 때문에 cpu로 옮김.\n",
    "        print(\"Accuracy in epoch {:2d} : {}/{} ({:.2f}%)\".format(cnt, correct, data_num, accuracy))\n",
    "        Accuracy.append(accuracy)\n",
    "    \n",
    "    return Accuracy\n",
    "\n",
    "model = ClassifierWithDropout().to(device)\n",
    "\n",
    "acc = train(10, model, train_loader)\n",
    "\n",
    "plt.plot(range(1, len(acc) + 1), acc, label='Training Accuracy')\n",
    "plt.xlabel('epoch')\n",
    "plt.ylabel('Accuracy')\n",
    "plt.legend()\n",
    "plt.show()"
   ]
  },
  {
   "cell_type": "code",
   "execution_count": 88,
   "metadata": {},
   "outputs": [],
   "source": [
    "def eval(model, dataloader):\n",
    "    model.eval()  # 모델을 평가 모드로 전환\n",
    "    correct = 0\n",
    "\n",
    "    with torch.no_grad():\n",
    "        for data, targets in dataloader:\n",
    "            data = data.reshape(-1, 28*28).to(device)\n",
    "            targets = targets.to(device)\n",
    "\n",
    "            outputs = model(data)\n",
    "            predicted = torch.argmax(outputs, 1)\n",
    "            correct += predicted.eq(targets.view_as(predicted)).sum()\n",
    "\n",
    "    data_num = len(dataloader.dataset)\n",
    "    accuracy = 100 * correct.to('cpu') / data_num\n",
    "    print(\"Test Accuracy: {}/{} ({:.2f}%)\".format(correct, data_num, accuracy))\n",
    "\n",
    "    return accuracy"
   ]
  },
  {
   "cell_type": "markdown",
   "metadata": {},
   "source": [
    "## Model Save & Load"
   ]
  },
  {
   "cell_type": "code",
   "execution_count": 89,
   "metadata": {},
   "outputs": [
    {
     "name": "stdout",
     "output_type": "stream",
     "text": [
      "Accuracy in epoch  1 : 34828/48000 (72.56%)\n",
      "Accuracy in epoch  2 : 39225/48000 (81.72%)\n",
      "Accuracy in epoch  3 : 39945/48000 (83.22%)\n",
      "Accuracy in epoch  4 : 40325/48000 (84.01%)\n",
      "Accuracy in epoch  5 : 40572/48000 (84.53%)\n",
      "Test Accuracy: 8399/10000 (83.99%)\n"
     ]
    },
    {
     "data": {
      "text/plain": [
       "tensor(83.9900)"
      ]
     },
     "execution_count": 89,
     "metadata": {},
     "output_type": "execute_result"
    }
   ],
   "source": [
    "# 모델과 옵티마이저 상태를 저장\n",
    "model = ClassifierWithDropout().to(device)\n",
    "optimizer = optim.Adam(model.parameters(), lr = 0.001)\n",
    "epoch = 5\n",
    "train(epoch, model, train_loader)\n",
    "torch.save({\n",
    "    'epoch': epoch,\n",
    "    'model_state_dict': model.state_dict(),\n",
    "    'optimizer_state_dict': optimizer.state_dict(),\n",
    "}, 'model_checkpoint.pth')\n",
    "eval(model, test_loader)"
   ]
  },
  {
   "cell_type": "code",
   "execution_count": 90,
   "metadata": {},
   "outputs": [
    {
     "name": "stdout",
     "output_type": "stream",
     "text": [
      "Test Accuracy: 8399/10000 (83.99%)\n"
     ]
    },
    {
     "data": {
      "text/plain": [
       "tensor(83.9900)"
      ]
     },
     "execution_count": 90,
     "metadata": {},
     "output_type": "execute_result"
    }
   ],
   "source": [
    "new_model = ClassifierWithDropout().to(device)\n",
    "checkpoint = torch.load('model_checkpoint.pth')\n",
    "new_model.load_state_dict(checkpoint['model_state_dict'])\n",
    "\n",
    "eval(new_model, test_loader)"
   ]
  },
  {
   "cell_type": "markdown",
   "metadata": {},
   "source": [
    "## Callback 함수\n",
    "### Save-best-only\n",
    "콜백은 훈련 중간에 작업을 수행하는 객체로 여기서는 점수가 가장 높을 때의 parammeter를 저장하는 용도로 사용해 보겠다.\n",
    "keras에서는 callback 함수가 내장되어 있지만 pytorch에서는 내장되어 있지 않다; 그래서 직접 만들어 보는 걸로."
   ]
  },
  {
   "cell_type": "code",
   "execution_count": 91,
   "metadata": {},
   "outputs": [
    {
     "name": "stdout",
     "output_type": "stream",
     "text": [
      "Accuracy in epoch  1 : 40845/48000 (85.09%)\n",
      "Accuracy in epoch  2 : 41002/48000 (85.42%)\n",
      "Accuracy in epoch  3 : 41173/48000 (85.78%)\n",
      "Accuracy in epoch  4 : 41287/48000 (86.01%)\n",
      "Accuracy in epoch  5 : 41459/48000 (86.37%)\n",
      "Test Accuracy: 8399/10000 (83.99%)\n"
     ]
    }
   ],
   "source": [
    "import math as m\n",
    "\n",
    "def callback(model):\n",
    "    torch.save({\n",
    "        'model_state_dict': model.state_dict(),\n",
    "        'optimizer_state_dict': optimizer.state_dict(),\n",
    "        }, 'best_model.pth')\n",
    "\n",
    "def train_callback(epoch, model, dataloader):\n",
    "    cnt = 0\n",
    "    max = -m.inf\n",
    "    Accuracy = []\n",
    "    criterion = nn.CrossEntropyLoss()\n",
    "    optimizer = optim.Adam(model.parameters(), lr=0.000523)\n",
    "    \n",
    "    for cnt in range(epoch):\n",
    "        model.train()\n",
    "        correct = 0\n",
    "        \n",
    "        for data, targets in dataloader:\n",
    "            data = data.reshape(-1, 28*28).to(device)\n",
    "            targets = targets.to(device)\n",
    "            \n",
    "            optimizer.zero_grad()\n",
    "            outputs = model(data)\n",
    "            loss = criterion(outputs, targets)\n",
    "            loss.backward()\n",
    "            optimizer.step()\n",
    "            \n",
    "            predicted = torch.argmax(outputs.data, 1)\n",
    "            correct += predicted.eq(targets.data.view_as(predicted)).sum()\n",
    "        \n",
    "        data_num = len(dataloader.dataset)\n",
    "        cnt += 1\n",
    "        accuracy = 100 * correct.to('cpu') / data_num # 뒤에 계산 때문에 cpu로 옮김.\n",
    "        print(\"Accuracy in epoch {:2d} : {}/{} ({:.2f}%)\".format(cnt, correct, data_num, accuracy))\n",
    "        Accuracy.append(accuracy)\n",
    "        \n",
    "        if accuracy > max:\n",
    "            callback(model)\n",
    "                \n",
    "    return Accuracy\n",
    "\n",
    "train_callback(5, model, train_loader)\n",
    "\n",
    "best_model = ClassifierWithDropout().to(device)\n",
    "checkpoint_best = torch.load('best_model.pth')\n",
    "best_model.load_state_dict(checkpoint['model_state_dict'])\n",
    "\n",
    "result = eval(best_model, test_loader)"
   ]
  },
  {
   "cell_type": "markdown",
   "metadata": {},
   "source": [
    "### Early-Stopping\n",
    "다른 경우로는 모델의 정확도가 오차 범위 내에서 더 이상 오르지 않을 때 학습을 중지하는 early-stopping이 있다."
   ]
  },
  {
   "cell_type": "code",
   "execution_count": 92,
   "metadata": {},
   "outputs": [
    {
     "name": "stdout",
     "output_type": "stream",
     "text": [
      "Accuracy in epoch  1 : 36148/48000 (75.31%)\n",
      "Accuracy in epoch  2 : 39384/48000 (82.05%)\n",
      "Accuracy in epoch  3 : 39992/48000 (83.32%)\n",
      "Accuracy in epoch  4 : 40462/48000 (84.30%)\n",
      "Accuracy in epoch  5 : 40713/48000 (84.82%)\n",
      "Accuracy in epoch  6 : 40910/48000 (85.23%)\n",
      "Accuracy in epoch  7 : 41117/48000 (85.66%)\n",
      "Accuracy in epoch  8 : 41226/48000 (85.89%)\n",
      "Accuracy in epoch  9 : 41388/48000 (86.22%)\n",
      "Accuracy in epoch 10 : 41557/48000 (86.58%)\n",
      "early stopped!\n"
     ]
    }
   ],
   "source": [
    "def train_earlystop(epoch, model, dataloader):\n",
    "    cnt = 0\n",
    "    esc = 0 # early-stop-count\n",
    "    Accuracy = []\n",
    "    criterion = nn.CrossEntropyLoss()\n",
    "    optimizer = optim.Adam(model.parameters(), lr=0.000523)\n",
    "    \n",
    "    for cnt in range(epoch):\n",
    "        model.train()\n",
    "        correct = 0\n",
    "        \n",
    "        for data, targets in dataloader:\n",
    "            data = data.reshape(-1, 28*28).to(device)\n",
    "            targets = targets.to(device)\n",
    "            \n",
    "            optimizer.zero_grad()\n",
    "            outputs = model(data)\n",
    "            loss = criterion(outputs, targets)\n",
    "            loss.backward()\n",
    "            optimizer.step()\n",
    "            \n",
    "            predicted = torch.argmax(outputs.data, 1)\n",
    "            correct += predicted.eq(targets.data.view_as(predicted)).sum()\n",
    "        \n",
    "        data_num = len(dataloader.dataset)\n",
    "        cnt += 1\n",
    "        accuracy = 100 * correct.to('cpu') / data_num # 뒤에 계산 때문에 cpu로 옮김.\n",
    "        print(\"Accuracy in epoch {:2d} : {}/{} ({:.2f}%)\".format(cnt, correct, data_num, accuracy))\n",
    "        \n",
    "        # Early Stopping\n",
    "        if len(Accuracy):\n",
    "            flag = abs(Accuracy[-1] - accuracy)\n",
    "            if flag < 0.5:\n",
    "                esc += 1\n",
    "            if esc == 5:\n",
    "                print(\"early stopped!\")\n",
    "                break\n",
    "        else : esc = 0\n",
    "        \n",
    "        Accuracy.append(accuracy)\n",
    "                \n",
    "    return Accuracy\n",
    "\n",
    "new_model = ClassifierWithDropout().to(device)\n",
    "result = train_earlystop(100, new_model, train_loader)"
   ]
  }
 ],
 "metadata": {
  "kernelspec": {
   "display_name": "Python 3",
   "language": "python",
   "name": "python3"
  },
  "language_info": {
   "codemirror_mode": {
    "name": "ipython",
    "version": 3
   },
   "file_extension": ".py",
   "mimetype": "text/x-python",
   "name": "python",
   "nbconvert_exporter": "python",
   "pygments_lexer": "ipython3",
   "version": "3.11.7"
  }
 },
 "nbformat": 4,
 "nbformat_minor": 2
}
