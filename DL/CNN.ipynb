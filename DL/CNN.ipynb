{
 "cells": [
  {
   "cell_type": "markdown",
   "metadata": {},
   "source": [
    "# Convolutional Neural Network\n",
    "를 사용한 이미지 분류\n",
    "## MNIST data 불러오기"
   ]
  },
  {
   "cell_type": "code",
   "execution_count": 44,
   "metadata": {},
   "outputs": [],
   "source": [
    "import torch\n",
    "device = 'cuda' if torch.cuda.is_available() else 'mps' if torch.backends.mps.is_available() else 'cpu'"
   ]
  },
  {
   "cell_type": "code",
   "execution_count": 45,
   "metadata": {},
   "outputs": [],
   "source": [
    "from torchvision import datasets, transforms\n",
    "from torch.utils.data import DataLoader\n",
    "\n",
    "transform = transforms.Compose([\n",
    "    transforms.ToTensor(),\n",
    "    transforms.Normalize((0.5,), (0.5,))\n",
    "])\n",
    "\n",
    "path = '../../../'\n",
    "\n",
    "train_dataset = datasets.MNIST(root=path, train=True, download=True, transform=transform)\n",
    "test_dataset = datasets.MNIST(root=path, train=False, download=True, transform=transform)\n",
    "\n",
    "batch_size = 64\n",
    "train_loader = DataLoader(train_dataset, batch_size=batch_size, shuffle=True)"
   ]
  },
  {
   "cell_type": "markdown",
   "metadata": {},
   "source": [
    "## CNN 만들기"
   ]
  },
  {
   "cell_type": "code",
   "execution_count": 46,
   "metadata": {},
   "outputs": [],
   "source": [
    "import torch.nn as nn\n",
    "\n",
    "class CNN(nn.Module):\n",
    "    def __init__(self):\n",
    "        super().__init__()\n",
    "        self.conv1 = nn.Conv2d(1, 32, kernel_size=3, stride=1, padding=1)\n",
    "        self.pool = nn.MaxPool2d(kernel_size=2, stride=2) # image (14 * 14)\n",
    "        self.conv2 = nn.Conv2d(32, 64, kernel_size=3, stride=1, padding=1)\n",
    "        self.fc1 = nn.Linear(64*7*7, 100) # 64(num of kernel) * (7 * 7)(image size)\n",
    "        self.dropout = nn.Dropout(0.4)\n",
    "        self.fc2 = nn.Linear(100, 10)\n",
    "        \n",
    "    def forward(self, x):\n",
    "        x = self.conv1(x)\n",
    "        x = self.pool(x)\n",
    "        x = self.conv2(x)\n",
    "        x = self.pool(x)\n",
    "        x = self.fc1(x.reshape(-1, 64*7*7))\n",
    "        x = self.dropout(x)\n",
    "        x = self.fc2(x)\n",
    "        return x"
   ]
  },
  {
   "cell_type": "code",
   "execution_count": 47,
   "metadata": {},
   "outputs": [
    {
     "name": "stdout",
     "output_type": "stream",
     "text": [
      "\n"
     ]
    }
   ],
   "source": [
    "'''\n",
    "# Accuracy ver.\n",
    "import torch.optim as optim\n",
    "\n",
    "def train(model, dataloader, learning_rate = 0.001):\n",
    "    model.train()\n",
    "    accuracy_list = []\n",
    "    criterion = nn.CrossEntropyLoss()\n",
    "    optimizer = optim.Adam(model.parameters(), lr = learning_rate)\n",
    "    correct = 0\n",
    "    \n",
    "    for data, labels in dataloader:\n",
    "        data, labels = data.to(device), labels.to(device)\n",
    "        optimizer.zero_grad()\n",
    "        \n",
    "        outputs = model(data)\n",
    "        loss = criterion(outputs, labels)\n",
    "        loss.backward()\n",
    "        optimizer.step()\n",
    "        \n",
    "        predicted = torch.argmax(outputs, 1)\n",
    "        correct += predicted.eq(labels.view_as(predicted)).sum()\n",
    "\n",
    "    data_num = len(dataloader.dataset)\n",
    "    accuracy = 100 * correct.to('cpu') / data_num\n",
    "    print(\"Accuracy in training : {}/{} ({:.2f}%)\".format(correct, data_num, accuracy))\n",
    "    accuracy_list.append(accuracy)\n",
    "        \n",
    "    return accuracy_list\n",
    "\n",
    "def eval(model, dataloader):\n",
    "    model.eval()\n",
    "    correct = 0\n",
    "    accuracy_list = []\n",
    "    with torch.no_grad():\n",
    "        for data, labels in dataloader:\n",
    "            data, labels = data.to(device), labels.to(device)\n",
    "            \n",
    "            outputs = model(data)\n",
    "            \n",
    "            predicted = torch.argmax(outputs, 1)\n",
    "            correct += predicted.eq(labels.view_as(predicted)).sum()\n",
    "\n",
    "    data_num = len(dataloader.dataset)\n",
    "    accuracy = 100 * correct.to('cpu') / data_num\n",
    "    print(\"Accuracy in evaluation : {}/{} ({:.2f}%)\".format(correct, data_num, accuracy))\n",
    "    accuracy_list.append(accuracy)\n",
    "    return accuracy_list\n",
    "'''\n",
    "print()"
   ]
  },
  {
   "cell_type": "code",
   "execution_count": 63,
   "metadata": {},
   "outputs": [],
   "source": [
    "# Loss ver.\n",
    "import torch.optim as optim\n",
    "\n",
    "def train(model, dataloader, learning_rate = 0.001):\n",
    "    model.train()\n",
    "    train_loss = 0.0\n",
    "    \n",
    "    optimizer = optim.Adam(model.parameters(), lr = learning_rate)\n",
    "    \n",
    "    for data, labels in dataloader:\n",
    "        data, labels = data.to(device), labels.to(device)\n",
    "        optimizer.zero_grad()\n",
    "        \n",
    "        outputs = model(data)\n",
    "        loss = criterion(outputs, labels)\n",
    "        loss.backward()\n",
    "        optimizer.step()\n",
    "        train_loss += loss.item() * data.size(0)\n",
    "    \n",
    "    train_loss = train_loss / len(dataloader.dataset)\n",
    "    print(f\"Loss in {'training':10s} : {train_loss:.4f}\")\n",
    "    return train_loss\n",
    "\n",
    "def eval(model, dataloader):\n",
    "    model.eval()\n",
    "    eval_loss = 0.0\n",
    "    \n",
    "    with torch.no_grad():\n",
    "        for data, labels in dataloader:\n",
    "            data, labels = data.to(device), labels.to(device)\n",
    "            \n",
    "            outputs = model(data)\n",
    "            loss = criterion(outputs, labels)\n",
    "            eval_loss += loss.item() * data.size(0)\n",
    "    \n",
    "    eval_loss = eval_loss / len(dataloader.dataset)\n",
    "    print(f\"Loss in {'evaluation':10s} : {eval_loss:.4f}\")\n",
    "    return eval_loss"
   ]
  },
  {
   "cell_type": "code",
   "execution_count": 64,
   "metadata": {},
   "outputs": [],
   "source": [
    "def CrossValidation(epoch, model, train_loader, val_loader):\n",
    "    train_losses, val_losses = [], []\n",
    "    for i in range(epoch):\n",
    "        print(f\"Epoch {i+1}\")\n",
    "        train_loss, val_loss = train(model, train_loader), eval(model, val_loader)\n",
    "        train_losses.append(train_loss)\n",
    "        val_losses.append(val_loss)\n",
    "    return train_losses, val_losses"
   ]
  },
  {
   "cell_type": "code",
   "execution_count": 65,
   "metadata": {},
   "outputs": [
    {
     "name": "stdout",
     "output_type": "stream",
     "text": [
      "=== Fold 1 ===\n",
      "Epoch 1\n",
      "Loss in training   : 0.1842\n",
      "Loss in evaluation : 0.0646\n",
      "Epoch 2\n",
      "Loss in training   : 0.0832\n",
      "Loss in evaluation : 0.0562\n",
      "Epoch 3\n",
      "Loss in training   : 0.0691\n",
      "Loss in evaluation : 0.0552\n",
      "=== Fold 2 ===\n",
      "Epoch 1\n",
      "Loss in training   : 0.0655\n",
      "Loss in evaluation : 0.0366\n",
      "Epoch 2\n",
      "Loss in training   : 0.0515\n",
      "Loss in evaluation : 0.0453\n",
      "Epoch 3\n",
      "Loss in training   : 0.0448\n",
      "Loss in evaluation : 0.0440\n",
      "=== Fold 3 ===\n",
      "Epoch 1\n",
      "Loss in training   : 0.0465\n",
      "Loss in evaluation : 0.0218\n",
      "Epoch 2\n",
      "Loss in training   : 0.0399\n",
      "Loss in evaluation : 0.0277\n",
      "Epoch 3\n",
      "Loss in training   : 0.0335\n",
      "Loss in evaluation : 0.0291\n",
      "=== Fold 4 ===\n",
      "Epoch 1\n",
      "Loss in training   : 0.0362\n",
      "Loss in evaluation : 0.0136\n",
      "Epoch 2\n",
      "Loss in training   : 0.0304\n",
      "Loss in evaluation : 0.0140\n",
      "Epoch 3\n",
      "Loss in training   : 0.0277\n",
      "Loss in evaluation : 0.0343\n",
      "=== Fold 5 ===\n",
      "Epoch 1\n",
      "Loss in training   : 0.0297\n",
      "Loss in evaluation : 0.0182\n",
      "Epoch 2\n",
      "Loss in training   : 0.0260\n",
      "Loss in evaluation : 0.0320\n",
      "Epoch 3\n",
      "Loss in training   : 0.0252\n",
      "Loss in evaluation : 0.0325\n"
     ]
    },
    {
     "data": {
      "image/png": "[encoded data removed]",
      "text/plain": [
       "<Figure size 640x480 with 1 Axes>"
      ]
     },
     "metadata": {},
     "output_type": "display_data"
    }
   ],
   "source": [
    "from sklearn.model_selection import StratifiedKFold\n",
    "from torch.utils.data import Subset, DataLoader\n",
    "\n",
    "n = 5\n",
    "kfold = StratifiedKFold(n, shuffle=True, random_state=42)\n",
    "\n",
    "model = CNN().to(device)\n",
    "train_losses, val_losses = [], []\n",
    "\n",
    "for fold, (train_idx, val_idx) in enumerate(kfold.split(train_dataset.data, train_dataset.targets)):\n",
    "    print(f\"=== Fold {fold + 1} ===\")\n",
    "    \n",
    "    train_subset = Subset(train_dataset, train_idx)\n",
    "    val_subset = Subset(train_dataset, val_idx)\n",
    "    \n",
    "    train_loader = DataLoader(train_subset, batch_size=64, shuffle=True)\n",
    "    val_loader = DataLoader(val_subset, batch_size=64, shuffle=False)\n",
    "    \n",
    "    criterion = nn.CrossEntropyLoss()\n",
    "    train_losses, val_losses = CrossValidation(3, model, train_loader, val_loader)\n",
    "    \n",
    "import matplotlib.pyplot as plt\n",
    "\n",
    "plt.plot(range(1, len(train_losses) + 1), train_losses, label='Training Loss')\n",
    "plt.plot(range(1, len(val_losses) + 1), val_losses, label='Validation Loss')\n",
    "plt.xlabel('Fold')\n",
    "plt.ylabel('Loss')\n",
    "plt.legend()\n",
    "plt.show()"
   ]
  },
  {
   "cell_type": "code",
   "execution_count": 69,
   "metadata": {},
   "outputs": [
    {
     "name": "stdout",
     "output_type": "stream",
     "text": [
      "Test Accuracy: 9835/10000 (98.35%)\n"
     ]
    }
   ],
   "source": [
    "model.eval()\n",
    "correct = 0\n",
    "total = 0\n",
    "with torch.no_grad():\n",
    "    for images, labels in test_loader:\n",
    "        images, labels = images.to(device), labels.to(device)\n",
    "\n",
    "        outputs = model(images)\n",
    "        _, predicted = torch.max(outputs.data, 1)\n",
    "        total += labels.size(0)\n",
    "        correct += (predicted == labels).sum().item()\n",
    "\n",
    "accuracy = correct / total\n",
    "print(f\"Test Accuracy: {correct}/{len(test_loader.dataset.data)} ({accuracy * 100:.2f}%)\")"
   ]
  },
  {
   "cell_type": "code",
   "execution_count": 101,
   "metadata": {},
   "outputs": [
    {
     "name": "stdout",
     "output_type": "stream",
     "text": [
      "Predicted : 7\n",
      "True Label : 7\n"
     ]
    },
    {
     "data": {
      "image/png": "[encoded data removed]",
      "text/plain": [
       "<Figure size 640x480 with 1 Axes>"
      ]
     },
     "metadata": {},
     "output_type": "display_data"
    }
   ],
   "source": [
    "import random as r\n",
    "idx = r.randint(0, len(test_dataset.data)-1)\n",
    "\n",
    "image, label = test_dataset[idx]\n",
    "\n",
    "plt.imshow(image.view(28,28), cmap ='gray_r')\n",
    "image = image.to(device)\n",
    "\n",
    "transform = transforms.Compose([\n",
    "    transforms.ToTensor(),\n",
    "    transforms.Normalize((0.5,),(0.5,))\n",
    "])\n",
    "\n",
    "# image = transform(image).unsqueeze(0)\n",
    "\n",
    "model.eval()\n",
    "with torch.no_grad():\n",
    "    output = model(image)\n",
    "\n",
    "_, predicted = torch.max(output, 1)\n",
    "print(f\"Predicted : {predicted.item()}\")\n",
    "print(f\"True Label : {label}\")"
   ]
  }
 ],
 "metadata": {
  "kernelspec": {
   "display_name": "Python 3",
   "language": "python",
   "name": "python3"
  },
  "language_info": {
   "codemirror_mode": {
    "name": "ipython",
    "version": 3
   },
   "file_extension": ".py",
   "mimetype": "text/x-python",
   "name": "python",
   "nbconvert_exporter": "python",
   "pygments_lexer": "ipython3",
   "version": "3.11.7"
  }
 },
 "nbformat": 4,
 "nbformat_minor": 2
}
